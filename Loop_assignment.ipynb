{
 "cells": [
  {
   "cell_type": "code",
   "execution_count": 1,
   "id": "b1990369-d9e0-44ea-9284-67edb0cdf1bc",
   "metadata": {},
   "outputs": [
    {
     "name": "stdout",
     "output_type": "stream",
     "text": [
      "1\n",
      "2\n",
      "3\n",
      "4\n",
      "5\n",
      "6\n",
      "7\n",
      "8\n",
      "9\n",
      "10\n"
     ]
    }
   ],
   "source": [
    "for i in range(1,11):\n",
    "    print(i)"
   ]
  },
  {
   "cell_type": "code",
   "execution_count": 2,
   "id": "39f4644a-c3c5-4610-85fa-c6c9fbffac12",
   "metadata": {},
   "outputs": [
    {
     "name": "stdout",
     "output_type": "stream",
     "text": [
      "sum of number : 5050\n"
     ]
    }
   ],
   "source": [
    "total = 0\n",
    "\n",
    "for i in range(1,101):\n",
    "    total += i\n",
    "\n",
    "print(\"sum of number :\"  ,total) "
   ]
  },
  {
   "cell_type": "code",
   "execution_count": 4,
   "id": "02b5821b-ac78-4edb-9a37-b9f7f20757e4",
   "metadata": {},
   "outputs": [
    {
     "name": "stdin",
     "output_type": "stream",
     "text": [
      "enter number : 3\n"
     ]
    },
    {
     "name": "stdout",
     "output_type": "stream",
     "text": [
      "3 x 1  = 3\n",
      "3 x 2  = 6\n",
      "3 x 3  = 9\n",
      "3 x 4  = 12\n",
      "3 x 5  = 15\n",
      "3 x 6  = 18\n",
      "3 x 7  = 21\n",
      "3 x 8  = 24\n",
      "3 x 9  = 27\n",
      "3 x 10  = 30\n"
     ]
    }
   ],
   "source": [
    "n = int(input(\"enter number :\"))\n",
    "\n",
    "\n",
    "for i in range(1,11):\n",
    "    print(f\"{n} x {i}  = {n*i}\")"
   ]
  },
  {
   "cell_type": "code",
   "execution_count": 9,
   "id": "68285fd7-323f-4c86-883b-411afc38156f",
   "metadata": {},
   "outputs": [
    {
     "name": "stdout",
     "output_type": "stream",
     "text": [
      "even number : 5\n",
      "odd number : 5\n"
     ]
    }
   ],
   "source": [
    "n = [1,2,3,4,5,6,7,8,9,10]\n",
    "\n",
    "even = 0\n",
    "odd = 0\n",
    "\n",
    "for i in n:\n",
    "    if(i%2) == 0:\n",
    "        even += 1\n",
    "    else:\n",
    "        odd += 1\n",
    "\n",
    "print(\"even number :\" , even)\n",
    "print(\"odd number :\"  , odd)\n",
    "\n",
    "\n",
    "        "
   ]
  },
  {
   "cell_type": "code",
   "execution_count": 12,
   "id": "327308c0-ce21-48ad-94f6-59d844ce2c33",
   "metadata": {},
   "outputs": [
    {
     "name": "stdin",
     "output_type": "stream",
     "text": [
      "enter number : 6\n"
     ]
    },
    {
     "name": "stdout",
     "output_type": "stream",
     "text": [
      "factorial of 6 is 720\n"
     ]
    }
   ],
   "source": [
    "n = int(input(\"enter number :\"))\n",
    "\n",
    "product = 1\n",
    "\n",
    "for i in range(1,n+1):\n",
    "    product = product*i\n",
    "\n",
    "print(f\"factorial of {n} is {product}\")"
   ]
  },
  {
   "cell_type": "code",
   "execution_count": 5,
   "id": "89ce1eda-e4a0-4aef-b0e4-e7b80e72ad3f",
   "metadata": {},
   "outputs": [
    {
     "name": "stdin",
     "output_type": "stream",
     "text": [
      "number : 4\n"
     ]
    },
    {
     "name": "stdout",
     "output_type": "stream",
     "text": [
      "number is not prime \n"
     ]
    }
   ],
   "source": [
    "n = int(input(\"number :\"))\n",
    "\n",
    "for i in range(2,n):\n",
    "    if(n%2) ==0:\n",
    "        print(\"number is not prime \")\n",
    "        break\n",
    "\n",
    "else:\n",
    "        print(\"number is prime \")"
   ]
  },
  {
   "cell_type": "code",
   "execution_count": 15,
   "id": "fd5da51e-603d-4178-a611-154d4ef67c6f",
   "metadata": {},
   "outputs": [
    {
     "name": "stdout",
     "output_type": "stream",
     "text": [
      "largest number  68\n"
     ]
    }
   ],
   "source": [
    "n = [2,12,34,20,45,35,68]\n",
    "\n",
    "largest = 0\n",
    "\n",
    "for i in n:\n",
    "    if i >largest:\n",
    "        largest = i\n",
    "\n",
    "print(\"largest number \" , largest)"
   ]
  },
  {
   "cell_type": "code",
   "execution_count": 33,
   "id": "917fc838-bf82-4c48-955d-2f842f8676b7",
   "metadata": {},
   "outputs": [
    {
     "name": "stdin",
     "output_type": "stream",
     "text": [
      "enter string :  python\n"
     ]
    },
    {
     "name": "stdout",
     "output_type": "stream",
     "text": [
      " nohtyp\n"
     ]
    }
   ],
   "source": [
    "n = input(\"enter string : \")\n",
    "\n",
    "reverse = \"\"\n",
    "\n",
    "for i in range(len(n)-1,-1,-1):\n",
    "    reverse += n[i]\n",
    "\n",
    "print(\"\",reverse)\n",
    "    "
   ]
  },
  {
   "cell_type": "code",
   "execution_count": 36,
   "id": "4213bf82-f4d7-47b2-8dcc-8e6444b82d7d",
   "metadata": {},
   "outputs": [
    {
     "name": "stdout",
     "output_type": "stream",
     "text": [
      "commen number : []\n"
     ]
    }
   ],
   "source": [
    "lst1 = [123]\n",
    "lst2 = [451]\n",
    "\n",
    "common = []\n",
    "\n",
    "for i in lst1:\n",
    "    if i in lst2:\n",
    "        common.append(i)\n",
    "\n",
    "print(\"commen number :\" , common)"
   ]
  },
  {
   "cell_type": "code",
   "execution_count": null,
   "id": "900591e6-9115-49c4-bd9a-8611f0d46fa9",
   "metadata": {},
   "outputs": [],
   "source": []
  }
 ],
 "metadata": {
  "kernelspec": {
   "display_name": "Python [conda env:base] *",
   "language": "python",
   "name": "conda-base-py"
  },
  "language_info": {
   "codemirror_mode": {
    "name": "ipython",
    "version": 3
   },
   "file_extension": ".py",
   "mimetype": "text/x-python",
   "name": "python",
   "nbconvert_exporter": "python",
   "pygments_lexer": "ipython3",
   "version": "3.12.7"
  }
 },
 "nbformat": 4,
 "nbformat_minor": 5
}
