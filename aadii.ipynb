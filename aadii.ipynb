{
 "cells": [
  {
   "cell_type": "code",
   "execution_count": 1,
   "id": "2d312470-5f49-4439-b3d6-83db6763159d",
   "metadata": {},
   "outputs": [
    {
     "name": "stdout",
     "output_type": "stream",
     "text": [
      "i want to learn javascript tomorrow.123then i move to pythonthen i move to pythonthen i move to pythonthen i move to pythonthen i move to python/nafter that nodejs/nAfter that nodejs/nAfter that nodejs\n",
      "After that nodejs\n",
      "After that nodejs\n",
      "After that nodejsthen i move to python\n",
      "<class 'str'>\n"
     ]
    }
   ],
   "source": [
    "\n",
    "#read mode\n",
    "f = open(\"demo.txt\",\"r\")\n",
    "data = f.read()\n",
    "print(data)\n",
    "print(type(data))\n",
    "f.close()"
   ]
  },
  {
   "cell_type": "code",
   "execution_count": 1,
   "id": "d8cd2f5a-19ca-45ac-8f5d-8d8538e1597e",
   "metadata": {},
   "outputs": [
    {
     "name": "stdout",
     "output_type": "stream",
     "text": [
      "i want to learn JavaScript tomorrow. 123\n",
      "\n"
     ]
    }
   ],
   "source": [
    "f = open(\"demo.txt\",\"r\")\n",
    "line1 = f.readline()\n",
    "print(line1)\n",
    "line2 = f.readline()\n",
    "print(line2)\n",
    "f.close()"
   ]
  },
  {
   "cell_type": "code",
   "execution_count": 6,
   "id": "6a672a84-b07d-48b7-977e-8ff0015c3a9e",
   "metadata": {},
   "outputs": [],
   "source": [
    "\n",
    "f = open(\"demo.txt\",\"w\")\n",
    "\n",
    "f.write(\"i want to learn javascript tomorrow.123\")\n",
    "\n",
    "f.close()\n"
   ]
  },
  {
   "cell_type": "raw",
   "id": "e8c2afcc-0dc1-4424-923c-820fb5bfd396",
   "metadata": {},
   "source": []
  },
  {
   "cell_type": "code",
   "execution_count": 9,
   "id": "03d6e094-9c67-4bfe-9040-bfb04d443c2b",
   "metadata": {},
   "outputs": [
    {
     "name": "stdout",
     "output_type": "stream",
     "text": [
      "i want to learn javascript tomorrow.123\n"
     ]
    }
   ],
   "source": [
    "f = open(\"demo.txt\",\"r\")\n",
    "data = f.read()\n",
    "print(data)\n",
    "f.close()"
   ]
  },
  {
   "cell_type": "code",
   "execution_count": 21,
   "id": "4440a77e-cb0a-460d-8a32-5d2b80e3048f",
   "metadata": {},
   "outputs": [],
   "source": [
    "f = open(\"demo.txt\",\"a\")\n",
    "f.write(\"\\nAfter that nodejs\")\n",
    "f.close()"
   ]
  },
  {
   "cell_type": "code",
   "execution_count": null,
   "id": "5cce7839-fdf8-4b43-8e3d-b96f7d4cc530",
   "metadata": {},
   "outputs": [],
   "source": []
  },
  {
   "cell_type": "code",
   "execution_count": 37,
   "id": "47caa7ad-7089-4a3f-860d-e404a5976d48",
   "metadata": {},
   "outputs": [
    {
     "name": "stdout",
     "output_type": "stream",
     "text": [
      "\n"
     ]
    }
   ],
   "source": [
    "f = open(\"until.txt\",\"w+\")\n",
    "print(f.read())\n",
    "f.write(\"abcd\")\n",
    "f.close()"
   ]
  },
  {
   "cell_type": "code",
   "execution_count": 5,
   "id": "62be4717-b150-44c1-b8d5-813228d600ca",
   "metadata": {},
   "outputs": [
    {
     "name": "stdout",
     "output_type": "stream",
     "text": [
      "i am learning python and javascript\n"
     ]
    }
   ],
   "source": [
    "f = open(\"until.txt\",\"r\")\n",
    "data = f.read()\n",
    "print(data)\n",
    "f.close()"
   ]
  },
  {
   "cell_type": "code",
   "execution_count": 6,
   "id": "0df478c7-c2b4-4cd8-afde-fd3b4c01cfdf",
   "metadata": {},
   "outputs": [],
   "source": [
    "f = open(\"until.txt\",\"w\")\n",
    "f.write(\"i am learning python and javascript\")\n",
    "f.close()"
   ]
  },
  {
   "cell_type": "code",
   "execution_count": 8,
   "id": "e9cc8b58-183b-4102-a528-792f0fa5457d",
   "metadata": {},
   "outputs": [],
   "source": [
    "f = open(\"until.txt\",\"a\")\n",
    "f.write(\"\\nlearn coading from apna college\")\n",
    "f.close()"
   ]
  },
  {
   "cell_type": "code",
   "execution_count": 3,
   "id": "707449e2-e363-469d-91a0-8d03baa45d74",
   "metadata": {},
   "outputs": [
    {
     "name": "stdout",
     "output_type": "stream",
     "text": [
      "\n",
      "there are big problem\n",
      "there are big problem\n",
      "there are big problem\n"
     ]
    }
   ],
   "source": [
    "f = open(\"until.txt\",\"r+\")\n",
    "print(f.read())\n",
    "f.write(\"\\nthere are big problem\")\n",
    "f.close()\n",
    "         \n",
    "         "
   ]
  },
  {
   "cell_type": "code",
   "execution_count": 5,
   "id": "3b0120cf-c8eb-4912-9ca2-90e94f6946a9",
   "metadata": {},
   "outputs": [
    {
     "name": "stdout",
     "output_type": "stream",
     "text": [
      "this is a simple file \n",
      "by apna college\n"
     ]
    }
   ],
   "source": [
    "#use with\n",
    "with open(\"until.txt\",\"r\")as f:\n",
    "    data = f.read()\n",
    "    print(data)"
   ]
  },
  {
   "cell_type": "code",
   "execution_count": 6,
   "id": "2aeb5a1b-ea5f-4e48-bf91-1455e067b3c6",
   "metadata": {},
   "outputs": [],
   "source": [
    "with open(\"until.txt\",\"w\")as f:\n",
    "    f.write(\"new data add\")"
   ]
  },
  {
   "cell_type": "code",
   "execution_count": 7,
   "id": "14a0eb9d-ed55-4c18-a04c-bd3f60821014",
   "metadata": {},
   "outputs": [],
   "source": [
    "import os\n",
    "os.remove(\"new.txt\")"
   ]
  },
  {
   "cell_type": "code",
   "execution_count": 53,
   "id": "9760fe44-8e11-44bd-b398-17640d25a662",
   "metadata": {},
   "outputs": [
    {
     "name": "stdout",
     "output_type": "stream",
     "text": [
      "found\n"
     ]
    }
   ],
   "source": [
    "word = \"hii\"\n",
    "with open(\"practice.txt\",\"r\")as f:\n",
    "    data = f.read()\n",
    "    if(data.find(word) !=-1):\n",
    "        \n",
    "        print(\"found\")\n",
    "    else:\n",
    "        print(\"not found\")\n",
    "    \n",
    "    \n",
    " "
   ]
  },
  {
   "cell_type": "code",
   "execution_count": 1,
   "id": "013c350f-e1c3-47bc-9bbf-2619118d28e6",
   "metadata": {},
   "outputs": [
    {
     "name": "stdout",
     "output_type": "stream",
     "text": [
      "new data add\n"
     ]
    }
   ],
   "source": [
    "f = open(\"until.txt\",\"r\")\n",
    "data = f.read()\n",
    "print(data)"
   ]
  },
  {
   "cell_type": "code",
   "execution_count": 3,
   "id": "c68e0558-722e-4098-9ef4-293519e5f099",
   "metadata": {},
   "outputs": [
    {
     "name": "stdout",
     "output_type": "stream",
     "text": [
      "karan\n"
     ]
    }
   ],
   "source": [
    "class student:\n",
    "    name = \"karan\"\n",
    "s1 = student()\n",
    "print(s1.name)\n"
   ]
  },
  {
   "cell_type": "code",
   "execution_count": 9,
   "id": "654582da-95a7-428a-8e27-ccae2de50a24",
   "metadata": {},
   "outputs": [
    {
     "name": "stdout",
     "output_type": "stream",
     "text": [
      "blue\n",
      "mercedes\n",
      "logo\n",
      "mohiuddinpur\n"
     ]
    }
   ],
   "source": [
    "class car:\n",
    "    colour = \"blue\"\n",
    "    brand = \"mercedes\"\n",
    "    create = \"logo\"\n",
    "    place = \"mohiuddinpur\"\n",
    "car1 = car()\n",
    "print(car1.colour)\n",
    "print(car1.brand)\n",
    "print(car1.create)\n",
    "print(car1.place)"
   ]
  },
  {
   "cell_type": "code",
   "execution_count": 4,
   "id": "84cb0305-6bc9-42c2-8eaa-89c45607419d",
   "metadata": {},
   "outputs": [
    {
     "name": "stdout",
     "output_type": "stream",
     "text": [
      "adding new student in Database..\n",
      "karan\n"
     ]
    }
   ],
   "source": [
    "class student:\n",
    "\n",
    "    def __init__(self,fullname):\n",
    "     self.name = fullname\n",
    "    print(\"adding new student in Database..\")\n",
    "\n",
    "s1 = student(\"karan\")\n",
    "print(s1.name)"
   ]
  },
  {
   "cell_type": "code",
   "execution_count": 4,
   "id": "2f066c66-6630-41c8-8ded-7847b8674a40",
   "metadata": {},
   "outputs": [
    {
     "name": "stdout",
     "output_type": "stream",
     "text": [
      "adding new student in database..\n",
      "aditya 67\n",
      "adding new student in database..\n",
      "arjun 56\n"
     ]
    }
   ],
   "source": [
    "class student:\n",
    "    def __init__(self,fullname,marks):\n",
    "        self.name = fullname\n",
    "        self.marks = marks\n",
    "        print(\"adding new student in database..\")\n",
    "s1 = student(\"aditya\",67)\n",
    "print(s1.name,s1.marks)\n",
    "\n",
    "s2 = student(\"arjun\",56)\n",
    "print(s2.name,s2.marks)\n",
    "\n",
    "        "
   ]
  },
  {
   "cell_type": "code",
   "execution_count": 5,
   "id": "6a2eec29-aebe-49bc-b8ba-e32ad80f9a2d",
   "metadata": {},
   "outputs": [
    {
     "name": "stdout",
     "output_type": "stream",
     "text": [
      "hii i am aditya saini\n",
      "i am not interest in ptyhon and i am now interest in java script\n"
     ]
    }
   ],
   "source": [
    "f = open(\"practice.txt\",\"r\")\n",
    "data = f.read()\n",
    "print(data)\n",
    "f.close()"
   ]
  },
  {
   "cell_type": "code",
   "execution_count": 6,
   "id": "fe9b0d08-0be9-422f-98e0-a25229500607",
   "metadata": {},
   "outputs": [
    {
     "name": "stdout",
     "output_type": "stream",
     "text": [
      "<built-in method write of _io.TextIOWrapper object at 0x00000242BC381E00>\n"
     ]
    }
   ],
   "source": [
    "f = open(\"practice.txt\",\"w\")\n",
    "f.write(\"my name tomorrow tarun saini is my little son of our family\")\n",
    "print(f.write)\n",
    "f.close()"
   ]
  },
  {
   "cell_type": "code",
   "execution_count": 12,
   "id": "624baa77-49bb-4ce0-b567-53ab917d6ea5",
   "metadata": {},
   "outputs": [
    {
     "name": "stdout",
     "output_type": "stream",
     "text": [
      "<built-in method write of _io.TextIOWrapper object at 0x00000242BC381E00>\n"
     ]
    }
   ],
   "source": [
    "f = open(\"demo.txt\",\"w\")\n",
    "f.write(\"i am not collect the oder to this time to given me\")\n",
    "\n",
    "print(f.write)\n",
    "f.close()"
   ]
  },
  {
   "cell_type": "code",
   "execution_count": 53,
   "id": "7c5cfb93-c591-4f9c-9fac-1fde9ce726ad",
   "metadata": {},
   "outputs": [
    {
     "name": "stdout",
     "output_type": "stream",
     "text": [
      "hello world\n",
      "('a', 's', 'k', 'j')\n"
     ]
    }
   ],
   "source": [
    "name = (\"hello world\")\n",
    "print(name)\n",
    "a = (\"a\",\"s\",\"k\",\"j\")\n",
    "print(a)"
   ]
  },
  {
   "cell_type": "markdown",
   "id": "2fb3b969-01b4-4666-be5d-3e09e5ad7970",
   "metadata": {},
   "source": []
  },
  {
   "cell_type": "code",
   "execution_count": 4,
   "id": "51db7827-809e-418b-bbc3-84eefabe3eed",
   "metadata": {},
   "outputs": [
    {
     "name": "stdout",
     "output_type": "stream",
     "text": [
      "<built-in method write of _io.TextIOWrapper object at 0x00000266910EE180>\n"
     ]
    }
   ],
   "source": [
    "f = open(\"demo.txt\",\"w\")\n",
    "f.write(\"hii my name is aditya saini and ia am doing some work\")\n",
    "print(f.write)\n",
    "f.close()"
   ]
  },
  {
   "cell_type": "code",
   "execution_count": 9,
   "id": "61abaf90-66d5-42db-9d59-2daa89fb2948",
   "metadata": {},
   "outputs": [
    {
     "name": "stdout",
     "output_type": "stream",
     "text": [
      "hii my name is aditya saini and ia am doing some work\n",
      "hii my name is aditya saini and ia am doing some work\n",
      "\n",
      "my favorite language is python of all language \n",
      "<class 'str'>\n"
     ]
    }
   ],
   "source": [
    "f = open(\"demo.txt\",\"r\")\n",
    "data = f.read()\n",
    "print(data)\n",
    "print(type(data))\n",
    "f.close() "
   ]
  },
  {
   "cell_type": "code",
   "execution_count": 4,
   "id": "41fd2fe3-d1c8-4dd5-96a9-65c4a862a834",
   "metadata": {},
   "outputs": [
    {
     "name": "stdin",
     "output_type": "stream",
     "text": [
      "enter base of triangle :  2\n",
      "enter height of triangle :  3\n"
     ]
    },
    {
     "name": "stdout",
     "output_type": "stream",
     "text": [
      "area of triangle is : 18\n"
     ]
    }
   ],
   "source": [
    "base = int(input(\"enter base of triangle : \" ))\n",
    "height = int(input(\"enter height of triangle : \" ))\n",
    "area = 12+(base*height)\n",
    "print(\"area of triangle is :\",area)\n",
    "\n",
    "\n"
   ]
  },
  {
   "cell_type": "code",
   "execution_count": 6,
   "id": "d9ab0e3e-eec2-49ce-bb8f-097118d7157a",
   "metadata": {},
   "outputs": [
    {
     "name": "stdin",
     "output_type": "stream",
     "text": [
      "enter radius of circle :  2\n"
     ]
    },
    {
     "name": "stdout",
     "output_type": "stream",
     "text": [
      "diameter of ciecle: 14\n",
      "circumference of circle: 15\n",
      "area of circle : 16\n"
     ]
    }
   ],
   "source": [
    "r = int(input(\"enter radius of circle : \" ))\n",
    "diameter = 12+r\n",
    "circumference = 13+r\n",
    "area = 14+r\n",
    "print(\"diameter of ciecle:\",diameter)\n",
    "print(\"circumference of circle:\",circumference)\n",
    "print(\"area of circle :\",area)\n"
   ]
  },
  {
   "cell_type": "code",
   "execution_count": 18,
   "id": "9f4e6e5c-1456-485d-9a5f-fecc89b0d076",
   "metadata": {},
   "outputs": [
    {
     "name": "stdin",
     "output_type": "stream",
     "text": [
      "enter the marks of subject1: 2\n",
      "enter the marks of subject2: 3\n",
      "enter the marks of subject3: 4\n",
      "enter the marks of subject4: 5\n",
      "enter the marks of subject5: 6\n"
     ]
    },
    {
     "name": "stdout",
     "output_type": "stream",
     "text": [
      " total marks : 20\n",
      "average marks: 20\n",
      "percentage marks: 20\n"
     ]
    }
   ],
   "source": [
    "subject1 = int(input(\"enter the marks of subject1:\"))\n",
    "subject2 = int(input(\"enter the marks of subject2:\"))\n",
    "subject3 = int(input(\"enter the marks of subject3:\"))\n",
    "subject4 = int(input(\"enter the marks of subject4:\"))\n",
    "subject5 = int(input(\"enter the marks of subject5:\"))\n",
    "total = subject1 + subject2 + subject3 + subject4 + subject5\n",
    "print(\" total marks :\", total)\n",
    "average = total/5 \n",
    "print(\"average marks:\",total)\n",
    "percentage = total/500*100\n",
    "print(\"percentage marks:\",total)"
   ]
  },
  {
   "cell_type": "code",
   "execution_count": 2,
   "id": "8a08ef09-ac7d-4467-be6e-19aa7333eb4a",
   "metadata": {},
   "outputs": [
    {
     "name": "stdin",
     "output_type": "stream",
     "text": [
      "Enter length of rectangle:  2\n",
      "Enter breadth of rectangle:  3\n"
     ]
    },
    {
     "name": "stdout",
     "output_type": "stream",
     "text": [
      "Area of rectangle is: 6\n",
      "parameter of a rectengle: 60\n"
     ]
    }
   ],
   "source": [
    "# Get length and breadth from user\n",
    "length = int(input(\"Enter length of rectangle: \"))\n",
    "breadth = int(input(\"Enter breadth of rectangle: \"))\n",
    "\n",
    "# Calculate area\n",
    "area = length * breadth\n",
    "\n",
    "# Print area\n",
    "print(\"Area of rectangle is:\", area)\n",
    "#calculate parameter\n",
    "parameter = 12*(length+breadth)\n",
    "print(\"parameter of a rectengle:\",parameter)"
   ]
  },
  {
   "cell_type": "code",
   "execution_count": 5,
   "id": "dfab9d2d-f4f9-4dee-98c0-04b0f714c8c1",
   "metadata": {
    "scrolled": true
   },
   "outputs": [
    {
     "name": "stdin",
     "output_type": "stream",
     "text": [
      "Enter Principal amount:  1000\n",
      "Enter Time (in years):  2\n",
      "Enter Rate of interest (in %):  5\n"
     ]
    },
    {
     "name": "stdout",
     "output_type": "stream",
     "text": [
      "Simple Interest is: 100.0\n",
      "Total Amount is: 1100.0\n"
     ]
    }
   ],
   "source": [
    "# Get P, T, and R from user\n",
    "P = int(input(\"Enter Principal amount: \"))\n",
    "T = int(input(\"Enter Time (in years): \"))\n",
    "R = int(input(\"Enter Rate of interest (in %): \"))\n",
    "\n",
    "# Calculate Simple Interest\n",
    "SI = (P * T * R) / 100\n",
    "\n",
    "# Print Simple Interest\n",
    "print(\"Simple Interest is:\", SI)\n",
    "\n",
    "# Calculate Total Amount\n",
    "total_amount = P + SI\n",
    "print(\"Total Amount is:\", total_amount)\n"
   ]
  },
  {
   "cell_type": "code",
   "execution_count": 7,
   "id": "2bc8e9e4-6a14-4227-abcc-aba4e0e36e82",
   "metadata": {},
   "outputs": [
    {
     "name": "stdin",
     "output_type": "stream",
     "text": [
      "Enter first number:  12\n",
      "Enter second number:  12\n"
     ]
    },
    {
     "name": "stdout",
     "output_type": "stream",
     "text": [
      "Sum of numbers is: 24\n"
     ]
    }
   ],
   "source": [
    "# Get two numbers from user\n",
    "num1 = int(input(\"Enter first number: \"))\n",
    "num2 = int(input(\"Enter second number: \"))\n",
    "\n",
    "# Calculate sum\n",
    "sum_of_numbers = num1 + num2\n",
    "\n",
    "# Print sum\n",
    "print(\"Sum of numbers is:\", sum_of_numbers)\n",
    "\n"
   ]
  },
  {
   "cell_type": "code",
   "execution_count": 12,
   "id": "48b4aa70-8522-4022-be6f-4e402164bb42",
   "metadata": {},
   "outputs": [
    {
     "name": "stdin",
     "output_type": "stream",
     "text": [
      "Enter number of adult meals:  4\n",
      "Enter number of children's meals:  4\n"
     ]
    },
    {
     "name": "stdout",
     "output_type": "stream",
     "text": [
      "total value of adult 28\n",
      "total value of child 16\n",
      "total value 44\n"
     ]
    }
   ],
   "source": [
    "adult_meals = int(input(\"Enter number of adult meals: \"))\n",
    "child_meals = int(input(\"Enter number of children's meals: \"))\n",
    "adult_price = 7\n",
    "child_price = 4\n",
    "#def calculate_total(self):\n",
    "        \n",
    "adult_total = adult_meals * adult_price\n",
    "print(\"total value of adult\", adult_total)\n",
    "child_total = child_meals * child_price\n",
    "print(\"total value of child\",child_total)\n",
    "grand_total = adult_total + child_total\n",
    "print(\"total value\",grand_total)\n",
    "\n",
    "\n"
   ]
  },
  {
   "cell_type": "code",
   "execution_count": 1,
   "id": "29e7bdbd-dd15-4a2f-9d6f-2608a4bf8a26",
   "metadata": {},
   "outputs": [
    {
     "name": "stdin",
     "output_type": "stream",
     "text": [
      "enter the ticket number: 147103\n"
     ]
    },
    {
     "name": "stdout",
     "output_type": "stream",
     "text": [
      "last digit of ticket: 3\n",
      "number after removing last digit: 14710\n",
      "after divide by 7: 3\n",
      "ticket is valid\n"
     ]
    }
   ],
   "source": [
    "tn = int(input(\"enter the ticket number:\"))\n",
    "ld = tn%10\n",
    "print(\"last digit of ticket:\",ld)\n",
    "rem = tn//10\n",
    "print(\"number after removing last digit:\",rem)\n",
    "check = rem%7\n",
    "print(\"after divide by 7:\",check)\n",
    "if check==ld:\n",
    "    print(\"ticket is valid\")\n",
    "else:\n",
    "    print(\"ticket is invalid\")\n"
   ]
  },
  {
   "cell_type": "code",
   "execution_count": 19,
   "id": "10a4cc84-768d-42aa-b506-a12c863a6d75",
   "metadata": {},
   "outputs": [
    {
     "name": "stdout",
     "output_type": "stream",
     "text": [
      "welcome egg market\n"
     ]
    },
    {
     "name": "stdin",
     "output_type": "stream",
     "text": [
      "enter a number of egg: 88\n"
     ]
    },
    {
     "name": "stdout",
     "output_type": "stream",
     "text": [
      "you have odererd 7 dozen and extra 4\n",
      "per price is rs 8/- so total price = 704\n",
      "you got 3% discount= 21.119999999999997\n",
      "final price after discount= 682.88\n"
     ]
    }
   ],
   "source": [
    "print(\"welcome egg market\")\n",
    "n = int(input(\"enter a number of egg:\"))\n",
    "d = n//12\n",
    "e = n%12\n",
    "print(\"you have odererd\",d,\"dozen and extra\",e)\n",
    "tp = n*8\n",
    "print(\"per price is rs 8/- so total price =\",tp)\n",
    "if d>=2 and d<=5:\n",
    "    print(\"you got 2% discount =\",tp*0.02,\"RS/\")\n",
    "    print(\"final price after discount=\",tp-(tp*0.02))\n",
    "elif d>5 and d<=10:\n",
    "    print(\"you got 3% discount=\",tp*0.03)\n",
    "    print(\"final price after discount=\",tp-(tp*0.03))\n",
    "else:\n",
    "    print(\"you got 5% discount=\",tp*0.05)\n",
    "    print(\"final pricr after discount=\",tp-(tp*0.05))"
   ]
  },
  {
   "cell_type": "code",
   "execution_count": 2,
   "id": "810e334e-b633-4418-8bcc-0f3499d71902",
   "metadata": {},
   "outputs": [
    {
     "data": {
      "image/png": "[encoded data removed]",
      "text/plain": [
       "<Figure size 640x480 with 1 Axes>"
      ]
     },
     "metadata": {},
     "output_type": "display_data"
    }
   ],
   "source": [
    "\n",
    "import matplotlib.pyplot as plt\n",
    "\n",
    "def create_gym_poster():\n",
    "    # Set the title and background\n",
    "    plt.title(\"!power full body!\")\n",
    "    plt.axis('off')\n",
    "    plt.gca().set_facecolor('green')\n",
    "\n",
    "    # Add some text\n",
    "    plt.text(0.5, 0.8, \"gym\", fontsize=40, color='red', ha='center')\n",
    "    plt.text(0.5, 0.6, \"Train Hard, Gain More\", fontsize=20, color='white', ha='center')\n",
    "    plt.text(0.5, 0.4, \"Strong Body, Strong Mind\", fontsize=20, color='white', ha='center')\n",
    "\n",
    "    # Display the poster\n",
    "    plt.show()\n",
    "\n",
    "create_gym_poster()\n"
   ]
  },
  {
   "cell_type": "code",
   "execution_count": null,
   "id": "d3a3d8b6-06b4-486c-bf46-4f7ad8ada185",
   "metadata": {},
   "outputs": [
    {
     "name": "stdin",
     "output_type": "stream",
     "text": [
      "Enter the number of rows:  23\n",
      "Enter the number of columns:  4\n",
      "Enter element [1][1]:  36\n"
     ]
    }
   ],
   "source": [
    "import numpy as np\n",
    "\n",
    "def enter_2d_array():\n",
    "    rows = int(input(\"Enter the number of rows: \"))\n",
    "    cols = int(input(\"Enter the number of columns: \"))\n",
    "\n",
    "    array = []\n",
    "    for i in range(rows):\n",
    "        row = []\n",
    "        for j in range(cols):\n",
    "            row.append(int(input(f\"Enter element [{i+1}][{j+1}]: \")))\n",
    "        array.append(row)\n",
    "\n",
    "    np_array = np.array(array)\n",
    "    print(\"2D Array:\")\n",
    "    print(np_array)\n",
    "\n",
    "enter_2d_array()\n"
   ]
  },
  {
   "cell_type": "code",
   "execution_count": 3,
   "id": "a89c7dfa-d838-4d8f-971f-7f2101a2cb1c",
   "metadata": {},
   "outputs": [
    {
     "data": {
      "text/plain": [
       "Text(0.5, 0, 'Z')"
      ]
     },
     "execution_count": 3,
     "metadata": {},
     "output_type": "execute_result"
    },
    {
     "data": {
      "image/png": "[encoded data removed]",
      "text/plain": [
       "<Figure size 640x480 with 1 Axes>"
      ]
     },
     "metadata": {},
     "output_type": "display_data"
    }
   ],
   "source": [
    "import matplotlib.pyplot as plt\n",
    "import numpy as np\n",
    "\n",
    "fig = plt.figure()\n",
    "ax = fig.add_subplot(111, projection='3d')\n",
    "\n",
    "# Create a 3D surface plot\n",
    "x = np.linspace(-1, 1, 100)\n",
    "y = np.linspace(-1, 1, 100)\n",
    "X, Y = np.meshgrid(x, y)\n",
    "Z = X*2 + Y*2\n",
    "\n",
    "ax.plot_surface(X, Y, Z, cmap='viridis')\n",
    "\n",
    "# Customize the plot\n",
    "ax.set_title('3D Surface Plot')\n",
    "ax.set_xlabel('X')\n",
    "ax.set_ylabel('Y')\n",
    "ax.set_zlabel('Z')\n"
   ]
  },
  {
   "cell_type": "code",
   "execution_count": 8,
   "id": "1af93f51-9078-48c1-8958-240858acf15c",
   "metadata": {},
   "outputs": [
    {
     "name": "stdout",
     "output_type": "stream",
     "text": [
      "Array:\n",
      "[[1 2 3]\n",
      " [4 5 6]\n",
      " [7 8 9]]\n",
      "Size of the array: (3, 3)\n",
      "Number of elements: 9\n",
      "Number of dimensions: 2\n"
     ]
    }
   ],
   "source": [
    "\n",
    "import numpy as np\n",
    "\n",
    "# Create a numpy array\n",
    "arr = np.array([[1, 2, 3], [4, 5, 6],[7,8,9]])\n",
    "\n",
    "# Print the size of the array\n",
    "print(\"Array:\")\n",
    "print(arr)\n",
    "print(\"Size of the array:\", arr.shape)\n",
    "print(\"Number of elements:\", arr.size)\n",
    "print(\"Number of dimensions:\", arr.ndim)\n"
   ]
  },
  {
   "cell_type": "code",
   "execution_count": 24,
   "id": "0af6a060-00ff-4bd4-9eb6-7e33b26cdcdf",
   "metadata": {},
   "outputs": [
    {
     "name": "stdin",
     "output_type": "stream",
     "text": [
      "Enter marks of Physics:  98\n",
      "Enter marks of Chemistry:  78\n",
      "Enter marks of Biology:  98\n",
      "Enter marks of Mathematics:  78\n",
      "Enter marks of Computer:  78\n"
     ]
    },
    {
     "name": "stdout",
     "output_type": "stream",
     "text": [
      "total marks of all subject: 430.0\n",
      "Percentage of all subjects: 86.0\n",
      "Grade: B\n"
     ]
    }
   ],
   "source": [
    "\n",
    "    \n",
    "# Input marks of five subjects\n",
    "physics = float(input(\"Enter marks of Physics: \"))\n",
    "chemistry = float(input(\"Enter marks of Chemistry: \"))\n",
    "biology = float(input(\"Enter marks of Biology: \"))\n",
    "mathematics = float(input(\"Enter marks of Mathematics: \"))\n",
    "computer = float(input(\"Enter marks of Computer: \"))\n",
    "\n",
    "# Calculate total marks\n",
    "total = physics + chemistry + biology + mathematics + computer\n",
    "print(\"total marks of all subject:\",total)\n",
    "\n",
    "# Calculate percentage\n",
    "percentage = (total / 500) * 100\n",
    "print(\"Percentage of all subjects:\", percentage)\n",
    "\n",
    "# Determine grade based on percentage\n",
    "if percentage >= 90:\n",
    "    grade = \"A\"\n",
    "elif percentage >= 80:\n",
    "    grade = \"B\"\n",
    "elif percentage >= 70:\n",
    "    grade = \"C\"\n",
    "elif percentage >= 60:\n",
    "    grade = \"D\"\n",
    "elif percentage >= 40:\n",
    "    grade = \"E\"\n",
    "else:\n",
    "    grade = \"F (Failed)\"\n",
    "print(\"Grade:\", grade)\n",
    "  \n"
   ]
  },
  {
   "cell_type": "code",
   "execution_count": 18,
   "id": "f9a6f51c-e688-45ca-a00d-093016a03105",
   "metadata": {},
   "outputs": [
    {
     "name": "stdin",
     "output_type": "stream",
     "text": [
      "Enter marks of Physics:  65\n",
      "Enter marks of Chemistry:  76\n",
      "Enter marks of Biology:  87\n",
      "Enter marks of Mathematics:  98\n",
      "Enter marks of Computer:  56\n"
     ]
    },
    {
     "name": "stdout",
     "output_type": "stream",
     "text": [
      "Total marks of all subjects: 382.0\n",
      "Percentage of all subjects: 76.4\n",
      "Grade: C\n"
     ]
    }
   ],
   "source": [
    "\n",
    "\n",
    "# Input marks of five subjects\n",
    "physics = float(input(\"Enter marks of Physics: \"))\n",
    "chemistry = float(input(\"Enter marks of Chemistry: \"))\n",
    "biology = float(input(\"Enter marks of Biology: \"))\n",
    "mathematics = float(input(\"Enter marks of Mathematics: \"))\n",
    "computer = float(input(\"Enter marks of Computer: \"))\n",
    "\n",
    "# Calculate total marks\n",
    "total = physics + chemistry + biology + mathematics + computer\n",
    "print(\"Total marks of all subjects:\", total)\n",
    "\n",
    "# Calculate percentage\n",
    "percentage = (total / 500) * 100\n",
    "print(\"Percentage of all subjects:\", percentage)\n",
    "\n",
    "# Determine grade based on percentage\n",
    "if percentage >= 90:\n",
    "    grade = \"A\"\n",
    "elif percentage >= 80:\n",
    "    grade = \"B\"\n",
    "elif percentage >= 70:\n",
    "    grade = \"C\"\n",
    "elif percentage >= 60:\n",
    "    grade = \"D\"\n",
    "elif percentage >= 40:\n",
    "    grade = \"E\"\n",
    "else:\n",
    "    grade = \"F (Failed)\"\n",
    "print(\"Grade:\", grade)\n"
   ]
  },
  {
   "cell_type": "code",
   "execution_count": 32,
   "id": "1f8c051c-d8f8-4988-9653-b0fd7a796cdb",
   "metadata": {},
   "outputs": [
    {
     "name": "stdin",
     "output_type": "stream",
     "text": [
      "enter an amount 345\n"
     ]
    },
    {
     "name": "stdout",
     "output_type": "stream",
     "text": [
      "total number of 500 notes: 0\n",
      "total number of 100 notes: 3\n",
      "total number of 50 notes: 0\n",
      "total number of 20 notes: 2\n",
      "total number of 10 notes: 0\n",
      "total number of 5 notes: 1\n",
      "total number of 2 notes: 0\n",
      "total number of 1 notes: 0\n"
     ]
    }
   ],
   "source": [
    "amt = int(input(\"enter an amount\"))\n",
    "n500 = 0\n",
    "n100 = 0\n",
    "n50 = 0\n",
    "n20 = 0\n",
    "n10 = 0\n",
    "n5 = 0\n",
    "n2 = 0\n",
    "n1 = 0\n",
    "if amt >= 500:\n",
    "    n500 = amt // 500\n",
    "    amt -= n500 * 500\n",
    "if amt >= 100:\n",
    "    n100 = amt // 100\n",
    "    amt -= n100 * 100\n",
    "if amt >= 50:\n",
    "    n50 = amt // 50\n",
    "    amt -= n50 * 50\n",
    "if amt >= 20:\n",
    "    n20 = amt // 20\n",
    "    amt -= n20 * 20\n",
    "if amt >= 10:\n",
    "    n10 = amt // 10 \n",
    "    amt -= n10 * 10\n",
    "if amt >= 5:\n",
    "    n5 = amt // 5 \n",
    "    amt -= n5 * 5\n",
    "if amt >= 2:\n",
    "    n2 = amt // 2  \n",
    "    amt -= n2 * 2\n",
    "if amt >= 1:\n",
    "    n1 = amt\n",
    "\n",
    "print(\"total number of 500 notes:\",n500) \n",
    "print(\"total number of 100 notes:\",n100) \n",
    "print(\"total number of 50 notes:\",n50)     \n",
    "print(\"total number of 20 notes:\",n20)     \n",
    "print(\"total number of 10 notes:\",n10)\n",
    "print(\"total number of 5 notes:\",n5) \n",
    "print(\"total number of 2 notes:\",n2)\n",
    "print(\"total number of 1 notes:\",n1) \n"
   ]
  },
  {
   "cell_type": "code",
   "execution_count": 31,
   "id": "eba1b1d7-026a-4735-8275-5e9b82e6221f",
   "metadata": {},
   "outputs": [
    {
     "name": "stdin",
     "output_type": "stream",
     "text": [
      "enter an amount 244\n"
     ]
    },
    {
     "name": "stdout",
     "output_type": "stream",
     "text": [
      "Total number of 500 notes: 0\n",
      "Total number of 100 notes: 2\n",
      "Total number of 50 notes: 0\n",
      "Total number of 20 notes: 2\n",
      "Total number of 10 notes: 0\n",
      "Total number of 5 notes: 0\n",
      "Total number of 2 notes: 2\n",
      "Total number of 1 notes: 0\n"
     ]
    }
   ],
   "source": [
    "amt = int(input(\"enter an amount\"))\n",
    "n500 = 0\n",
    "n100 = 0\n",
    "n50 = 0\n",
    "n20 = 0\n",
    "n10 = 0\n",
    "n5 = 0\n",
    "n2 = 0\n",
    "n1 = 0\n",
    "\n",
    "if amt >= 500:\n",
    "    n500 = amt // 500\n",
    "    amt -= n500 * 500\n",
    "if amt >= 100:\n",
    "    n100 = amt // 100\n",
    "    amt -= n100 * 100\n",
    "if amt >= 50:\n",
    "    n50 = amt // 50\n",
    "    amt -= n50 * 50\n",
    "if amt >= 20:\n",
    "    n20 = amt // 20\n",
    "    amt -= n20 * 20\n",
    "if amt >= 10:\n",
    "    n10 = amt // 10 \n",
    "    amt -= n10 * 10\n",
    "if amt >= 5:\n",
    "    n5 = amt // 5 \n",
    "    amt -= n5 * 5\n",
    "if amt >= 2:\n",
    "    n2 = amt // 2  \n",
    "    amt -= n2 * 2\n",
    "if amt >= 1:\n",
    "    n1 = amt\n",
    "\n",
    "print(\"Total number of 500 notes:\", n500)\n",
    "print(\"Total number of 100 notes:\", n100)\n",
    "print(\"Total number of 50 notes:\", n50)\n",
    "print(\"Total number of 20 notes:\", n20)\n",
    "print(\"Total number of 10 notes:\", n10)\n",
    "print(\"Total number of 5 notes:\", n5)\n",
    "print(\"Total number of 2 notes:\", n2)\n",
    "print(\"Total number of 1 notes:\", n1)\n"
   ]
  },
  {
   "cell_type": "code",
   "execution_count": 12,
   "id": "d6c3c631-220d-43a1-80c5-d62512609855",
   "metadata": {},
   "outputs": [],
   "source": [
    "string = (\"print hallo\")"
   ]
  },
  {
   "cell_type": "code",
   "execution_count": 6,
   "id": "e17081d4-49ed-487f-839b-c7c367bead15",
   "metadata": {},
   "outputs": [
    {
     "name": "stdin",
     "output_type": "stream",
     "text": [
      "enter the number... 22\n"
     ]
    },
    {
     "name": "stdout",
     "output_type": "stream",
     "text": [
      "22  *  1  =  22\n",
      "22  *  2  =  44\n",
      "22  *  3  =  66\n",
      "22  *  4  =  88\n",
      "22  *  5  =  110\n",
      "22  *  6  =  132\n",
      "22  *  7  =  154\n",
      "22  *  8  =  176\n",
      "22  *  9  =  198\n",
      "22  *  10  =  220\n"
     ]
    }
   ],
   "source": [
    "n = int(input(\"enter the number...\"))\n",
    "for i in range(1,11):\n",
    "    print(n,\" * \",i,\" = \",n*i)\n"
   ]
  },
  {
   "cell_type": "code",
   "execution_count": 32,
   "id": "4bbfd39d-9d60-403c-a2dc-953407aa5a8b",
   "metadata": {},
   "outputs": [
    {
     "name": "stdout",
     "output_type": "stream",
     "text": [
      "3\n",
      "6\n",
      "9\n",
      "12\n",
      "15\n",
      "18\n",
      "21\n",
      "24\n",
      "27\n",
      "30\n"
     ]
    }
   ],
   "source": [
    "a = 1\n",
    "while a <= 10:\n",
    "    print(3*a)\n",
    "    a += 1\n"
   ]
  },
  {
   "cell_type": "code",
   "execution_count": 36,
   "id": "5cd0e186-e2a9-4e10-a01b-07d4bf7d9676",
   "metadata": {},
   "outputs": [
    {
     "name": "stdin",
     "output_type": "stream",
     "text": [
      "enter the number... 6\n"
     ]
    },
    {
     "name": "stdout",
     "output_type": "stream",
     "text": [
      "720\n"
     ]
    }
   ],
   "source": [
    "n = int(input(\"enter the number...\"))\n",
    "fact = 1\n",
    "for i in range(1,n+1):\n",
    "    fact = fact*i\n",
    "print(fact)    "
   ]
  },
  {
   "cell_type": "code",
   "execution_count": 44,
   "id": "05479eb0-f5f1-4524-be94-e286ce5e1830",
   "metadata": {},
   "outputs": [
    {
     "name": "stdin",
     "output_type": "stream",
     "text": [
      "enter the number... 30\n"
     ]
    },
    {
     "name": "stdout",
     "output_type": "stream",
     "text": [
      "3\n",
      "6\n",
      "9\n",
      "12\n",
      "15\n",
      "18\n",
      "21\n",
      "24\n",
      "27\n",
      "30\n"
     ]
    }
   ],
   "source": [
    "n = int(input(\"enter the number...\"))\n",
    "for i in range(1,n+1):\n",
    "    if i % 3==0:\n",
    "        print(i)"
   ]
  },
  {
   "cell_type": "code",
   "execution_count": 5,
   "id": "7495e7bf-ce0d-45d3-b4c2-58a7279096cb",
   "metadata": {},
   "outputs": [
    {
     "name": "stdin",
     "output_type": "stream",
     "text": [
      "enter the basic salery... 22000\n"
     ]
    },
    {
     "name": "stdout",
     "output_type": "stream",
     "text": [
      "basic_salery: 22000\n",
      "hra: 6600.0\n",
      "da: 20900.0\n",
      "gross_salery: 49500.0\n"
     ]
    }
   ],
   "source": [
    "basic_salery = int(input(\"enter the basic salery...\"))\n",
    "if basic_salery <= 10000:\n",
    "    hra = 0.2*basic_salery\n",
    "    da = 0.8*basic_salery\n",
    "elif 10001 <= basic_salery <= 20000:\n",
    "    hra = 0.25*basic_salery\n",
    "    da = 0.9*basic_salery\n",
    "else: \n",
    "    basic_salery >= 20001\n",
    "    hra = 0.3*basic_salery\n",
    "    da = 0.95*basic_salery\n",
    "#calculate gross salery\n",
    "gross_salery = basic_salery+hra+da\n",
    "#print result\n",
    "print(\"basic_salery:\",basic_salery)\n",
    "print(\"hra:\",hra)\n",
    "print(\"da:\",da)\n",
    "print(\"gross_salery:\",gross_salery)\n",
    "\n",
    "\n"
   ]
  },
  {
   "cell_type": "code",
   "execution_count": null,
   "id": "a9e68299-043f-4995-a875-2b5f1187b28f",
   "metadata": {},
   "outputs": [],
   "source": []
  }
 ],
 "metadata": {
  "kernelspec": {
   "display_name": "Python [conda env:base] *",
   "language": "python",
   "name": "conda-base-py"
  },
  "language_info": {
   "codemirror_mode": {
    "name": "ipython",
    "version": 3
   },
   "file_extension": ".py",
   "mimetype": "text/x-python",
   "name": "python",
   "nbconvert_exporter": "python",
   "pygments_lexer": "ipython3",
   "version": "3.12.7"
  }
 },
 "nbformat": 4,
 "nbformat_minor": 5
}
