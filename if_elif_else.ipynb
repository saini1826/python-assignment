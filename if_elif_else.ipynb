{
 "cells": [
  {
   "cell_type": "code",
   "execution_count": 1,
   "id": "9f6b2716-ecba-453d-a4ac-77c9036d76d5",
   "metadata": {},
   "outputs": [
    {
     "name": "stdin",
     "output_type": "stream",
     "text": [
      "enter your marks : 86\n"
     ]
    },
    {
     "name": "stdout",
     "output_type": "stream",
     "text": [
      "grade B\n"
     ]
    }
   ],
   "source": [
    "marks = int(input(\"enter your marks :\"))\n",
    "\n",
    "if marks >90:\n",
    "    print(\"grade A\")\n",
    "elif marks >=80 and marks <90:\n",
    "    print(\"grade B\")\n",
    "elif marks >=70 and marks <80:\n",
    "    print(\"grade C\")\n",
    "elif marks >=60 and marks <70:\n",
    "    print(\"grade D\")\n",
    "\n",
    "else:\n",
    "    print(\"student fail\")\n",
    "    "
   ]
  },
  {
   "cell_type": "code",
   "execution_count": 2,
   "id": "d216e30c-4709-4cea-84af-7bb6eb1aa6de",
   "metadata": {},
   "outputs": [
    {
     "name": "stdin",
     "output_type": "stream",
     "text": [
      "enter the number of unit : 105\n"
     ]
    },
    {
     "name": "stdout",
     "output_type": "stream",
     "text": [
      "total bill amount is RS 25\n"
     ]
    }
   ],
   "source": [
    "unit = int(input(\"enter the number of unit :\"))\n",
    "bill = 0\n",
    "\n",
    "if unit > 200:\n",
    "    bill += (unit - 200) * 10\n",
    "    unit = 200\n",
    "if unit >100:\n",
    "    bill += (unit - 100) * 5\n",
    "\n",
    "print(f\"total bill amount is RS {bill}\")\n",
    "    "
   ]
  },
  {
   "cell_type": "code",
   "execution_count": 2,
   "id": "524402be-2aa3-4eb3-a32c-a75639ca6966",
   "metadata": {},
   "outputs": [
    {
     "name": "stdin",
     "output_type": "stream",
     "text": [
      "enter ages : 12,35,40.60,63\n"
     ]
    },
    {
     "name": "stdout",
     "output_type": "stream",
     "text": [
      "youngest is 12\n"
     ]
    }
   ],
   "source": [
    "age = input(\"enter ages :\").split(\",\")\n",
    "print(f\"youngest is {min(age)}\")"
   ]
  },
  {
   "cell_type": "code",
   "execution_count": 11,
   "id": "bd4eeee3-7309-4e10-8336-6cd611074bc8",
   "metadata": {},
   "outputs": [
    {
     "name": "stdin",
     "output_type": "stream",
     "text": [
      "enter your salary : 50000\n",
      "enter your year of service : 7\n"
     ]
    },
    {
     "name": "stdout",
     "output_type": "stream",
     "text": [
      "your net bonus amount is 4000.0\n"
     ]
    }
   ],
   "source": [
    "salary = int(input(\"enter your salary :\"))\n",
    "years = int(input(\"enter your year of service :\"))\n",
    "\n",
    "\n",
    "if years >10 :\n",
    "    bonus = 10\n",
    "elif years >= 6 and years <= 10:\n",
    "    bonus = 8\n",
    "else:\n",
    "    bonus = 5\n",
    "\n",
    "bonus = (bonus / 100) * salary\n",
    "\n",
    "print(f\"your net bonus amount is {bonus}\")"
   ]
  },
  {
   "cell_type": "code",
   "execution_count": 22,
   "id": "e150f567-9b94-41e0-b708-9769f3f29111",
   "metadata": {},
   "outputs": [
    {
     "name": "stdin",
     "output_type": "stream",
     "text": [
      "enter first number : 12\n",
      "enter second number : 26\n",
      "enter third number : 30\n"
     ]
    },
    {
     "name": "stdout",
     "output_type": "stream",
     "text": [
      "second largest number is:  26\n"
     ]
    }
   ],
   "source": [
    "a = int(input(\"enter first number :\"))\n",
    "b = int(input(\"enter second number :\"))\n",
    "c = int(input(\"enter third number :\"))\n",
    "\n",
    "num = [a,b,c]\n",
    "\n",
    "num.sort()\n",
    "print(\"second largest number is: \",num[1])\n",
    "\n",
    "\n"
   ]
  },
  {
   "cell_type": "code",
   "execution_count": 24,
   "id": "127dc573-a359-4f1a-b7eb-b3454444f984",
   "metadata": {},
   "outputs": [
    {
     "name": "stdin",
     "output_type": "stream",
     "text": [
      "enter the marked price:  9000\n"
     ]
    },
    {
     "name": "stdout",
     "output_type": "stream",
     "text": [
      "discount = 1350.0\n",
      "net amount to pay = 7650.0\n"
     ]
    }
   ],
   "source": [
    "mrkd_pr = int(input(\"enter the marked price: \"))\n",
    "\n",
    "if mrkd_pr >10000:\n",
    "    discount = 20\n",
    "elif mrkd_pr >7000 and mrkd_pr <=10000:\n",
    "    discount = 15\n",
    "\n",
    "else:\n",
    "    discount = 10\n",
    "\n",
    "discounts = (discount / 100) * mrkd_pr\n",
    "\n",
    "net_amount = mrkd_pr - discounts\n",
    "\n",
    "print(f\"discount = {discounts}\")\n",
    "print(f\"net amount to pay = {net_amount}\")\n",
    "\n"
   ]
  },
  {
   "cell_type": "code",
   "execution_count": 7,
   "id": "99b37e2e-3b9a-440d-88d6-e779b73a6fcb",
   "metadata": {},
   "outputs": [
    {
     "name": "stdin",
     "output_type": "stream",
     "text": [
      "enter a number :  25\n"
     ]
    },
    {
     "name": "stdout",
     "output_type": "stream",
     "text": [
      "hello\n"
     ]
    }
   ],
   "source": [
    "pyt =  int(input(\"enter a number : \"))\n",
    "\n",
    "if pyt %5 == 0:\n",
    "    print(\"hello\")\n",
    "else:\n",
    "    print(\"bye\")"
   ]
  },
  {
   "cell_type": "code",
   "execution_count": 8,
   "id": "4f27fda7-295d-4906-a34e-0ce14bb21e84",
   "metadata": {},
   "outputs": [
    {
     "name": "stdin",
     "output_type": "stream",
     "text": [
      "enter a number :  123\n"
     ]
    },
    {
     "name": "stdout",
     "output_type": "stream",
     "text": [
      "last digit 3 is divisible by 3\n"
     ]
    }
   ],
   "source": [
    "ver = int(input(\"enter a number : \"))\n",
    "\n",
    "lst_dgt = ver %10\n",
    "\n",
    "if lst_dgt %3 == 0:\n",
    "    print(\"last digit\", lst_dgt,\"is divisible by 3\")\n",
    "\n",
    "else:\n",
    "    print(\"the last digit\",lst_dgt,\"is not divisible by 3\")"
   ]
  },
  {
   "cell_type": "code",
   "execution_count": 9,
   "id": "cfc9f9bf-dd38-4ecb-a02f-f20f49107095",
   "metadata": {},
   "outputs": [
    {
     "name": "stdin",
     "output_type": "stream",
     "text": [
      "enter marks in english :  85\n",
      "enter marks in science :  75\n",
      "enter marks in math :  86\n",
      "enter marks in physics :  90\n"
     ]
    },
    {
     "name": "stdout",
     "output_type": "stream",
     "text": [
      "you are allow physics stream\n"
     ]
    }
   ],
   "source": [
    "english = int(input(\"enter marks in english : \"))\n",
    "science = int(input(\"enter marks in science : \"))\n",
    "math = int(input(\"enter marks in math : \"))\n",
    "physics = int(input(\"enter marks in physics : \"))\n",
    "\n",
    "if english >80 and math >80 and science >80 and physics >80:\n",
    "    print(\"you are allow science stream\") \n",
    "elif english >80 and math >50 and science >50:\n",
    "    print(\"you are allow physics stream\")\n",
    "elif english >80 and physics >80:\n",
    "    print(\"you are allow math stream\")\n",
    "\n",
    "else:\n",
    "    print(\"stream not allow\")"
   ]
  },
  {
   "cell_type": "code",
   "execution_count": null,
   "id": "7b388cf5-e1e3-409d-89ad-f1f88bbf21c3",
   "metadata": {},
   "outputs": [],
   "source": []
  }
 ],
 "metadata": {
  "kernelspec": {
   "display_name": "Python [conda env:base] *",
   "language": "python",
   "name": "conda-base-py"
  },
  "language_info": {
   "codemirror_mode": {
    "name": "ipython",
    "version": 3
   },
   "file_extension": ".py",
   "mimetype": "text/x-python",
   "name": "python",
   "nbconvert_exporter": "python",
   "pygments_lexer": "ipython3",
   "version": "3.12.7"
  }
 },
 "nbformat": 4,
 "nbformat_minor": 5
}
