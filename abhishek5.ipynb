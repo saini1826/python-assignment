{
 "cells": [
  {
   "cell_type": "code",
   "execution_count": 7,
   "id": "a171a88c-a800-45bc-80c9-4e723b72ab6d",
   "metadata": {},
   "outputs": [
    {
     "name": "stdout",
     "output_type": "stream",
     "text": [
      "hello  python\n"
     ]
    }
   ],
   "source": [
    "str1 = \"hello\"\n",
    "str2 = \"python\"\n",
    "\n",
    "number = str1+\"  \"+str2\n",
    "print(number)"
   ]
  },
  {
   "cell_type": "code",
   "execution_count": 11,
   "id": "781681a4-cffb-456d-87cd-588c47a86b10",
   "metadata": {},
   "outputs": [
    {
     "name": "stdout",
     "output_type": "stream",
     "text": [
      "hello  system\n"
     ]
    }
   ],
   "source": [
    "num1 = \"hello\"\n",
    "num2 = \"system\"\n",
    "\n",
    "print(f\"{num1}  {num2}\")"
   ]
  },
  {
   "cell_type": "code",
   "execution_count": 15,
   "id": "9a60c717-6ee7-441a-bc6b-80e096ac85f9",
   "metadata": {},
   "outputs": [
    {
     "name": "stdout",
     "output_type": "stream",
     "text": [
      "hello world from python\n"
     ]
    }
   ],
   "source": [
    "word = [\"hello\" , \"world\" , \"from\" , \"python\"]\n",
    "\n",
    "many = \" \".join(word)\n",
    "print(many)"
   ]
  },
  {
   "cell_type": "code",
   "execution_count": 16,
   "id": "9a19879e-0e5e-41ee-ac37-4c5dd7fc4c2f",
   "metadata": {},
   "outputs": [
    {
     "name": "stdout",
     "output_type": "stream",
     "text": [
      "23\n"
     ]
    }
   ],
   "source": [
    "student = \"this is a good student \"\n",
    "\n",
    "print(len(student))"
   ]
  },
  {
   "cell_type": "code",
   "execution_count": 22,
   "id": "3f8cf359-0472-46ec-ad3e-e752d84451c0",
   "metadata": {},
   "outputs": [
    {
     "name": "stdout",
     "output_type": "stream",
     "text": [
      "HELLO WORLD\n"
     ]
    }
   ],
   "source": [
    "string = \"hello world\"\n",
    "\n",
    "print(string.upper())"
   ]
  },
  {
   "cell_type": "code",
   "execution_count": 24,
   "id": "9b91160a-5e02-4d39-844f-db00ee36abfd",
   "metadata": {},
   "outputs": [
    {
     "name": "stdout",
     "output_type": "stream",
     "text": [
      "Hello Python\n"
     ]
    }
   ],
   "source": [
    "str1 = \"hello python\"\n",
    "\n",
    "print(str1.title())"
   ]
  },
  {
   "cell_type": "code",
   "execution_count": 25,
   "id": "e2289c67-8c25-4904-b6dd-86b962653495",
   "metadata": {},
   "outputs": [
    {
     "name": "stdout",
     "output_type": "stream",
     "text": [
      "hello student\n"
     ]
    }
   ],
   "source": [
    "number = \"HELLO STUDENT\"\n",
    "\n",
    "print(number.lower())"
   ]
  },
  {
   "cell_type": "code",
   "execution_count": 27,
   "id": "e1139f85-f6e8-486c-a96e-ed7720cb11dd",
   "metadata": {},
   "outputs": [
    {
     "name": "stdout",
     "output_type": "stream",
     "text": [
      "i like python. java is fun\n"
     ]
    }
   ],
   "source": [
    "string = \"i like c++. java is fun\"\n",
    "\n",
    "print(string.replace(\"c++\" , \"python\"))"
   ]
  },
  {
   "cell_type": "code",
   "execution_count": 28,
   "id": "24b0316b-a863-4beb-8314-a981d90f2c1b",
   "metadata": {},
   "outputs": [
    {
     "name": "stdout",
     "output_type": "stream",
     "text": [
      "['herry', 'is', 'a', 'big', 'fan', 'of', 'master']\n"
     ]
    }
   ],
   "source": [
    "string = \"herry is a big fan of master\"\n",
    "\n",
    "print(string.split())"
   ]
  },
  {
   "cell_type": "code",
   "execution_count": 33,
   "id": "0b355c12-5154-4ed0-8598-d4b8643354ca",
   "metadata": {},
   "outputs": [
    {
     "name": "stdout",
     "output_type": "stream",
     "text": [
      "True\n"
     ]
    }
   ],
   "source": [
    "student = \"BDMI is a good boy \"\n",
    "\n",
    "print(student.startswith(\"BDMI\"))"
   ]
  },
  {
   "cell_type": "code",
   "execution_count": 32,
   "id": "1caabc26-1284-48f7-962f-0eea76aa3f53",
   "metadata": {},
   "outputs": [
    {
     "name": "stdout",
     "output_type": "stream",
     "text": [
      "True\n"
     ]
    }
   ],
   "source": [
    "student = \"Rahul is a good boy\"\n",
    "\n",
    "print(student.endswith(\"boy\"))"
   ]
  },
  {
   "cell_type": "code",
   "execution_count": 38,
   "id": "70332bcb-eb57-4580-801a-b452e3e0a273",
   "metadata": {},
   "outputs": [
    {
     "name": "stdout",
     "output_type": "stream",
     "text": [
      "hello world\n",
      "  hello world\n"
     ]
    }
   ],
   "source": [
    "number = \"  hello world  \"\n",
    "\n",
    "print(number.strip())\n",
    "print(number.rstrip())"
   ]
  },
  {
   "cell_type": "code",
   "execution_count": 41,
   "id": "a15806cd-3153-4ade-b505-9fe399ca2987",
   "metadata": {},
   "outputs": [
    {
     "name": "stdout",
     "output_type": "stream",
     "text": [
      "0\n",
      "22\n",
      "19\n"
     ]
    }
   ],
   "source": [
    "str = \"python programming is good\"\n",
    "\n",
    "print(str.find(\"python\"))\n",
    "print(str.find(\"good\"))\n",
    "print(str.find(\"is\"))"
   ]
  },
  {
   "cell_type": "code",
   "execution_count": 44,
   "id": "c7191e50-edfa-446b-8625-7550bc4ac86c",
   "metadata": {},
   "outputs": [
    {
     "name": "stdout",
     "output_type": "stream",
     "text": [
      "2\n",
      "1\n"
     ]
    }
   ],
   "source": [
    "str = \"python is good , python is fun\"\n",
    "\n",
    "print(str.count(\"is\"))\n",
    "print(str.count(\"good\"))"
   ]
  },
  {
   "cell_type": "code",
   "execution_count": 49,
   "id": "c659aef0-b1a6-45a0-a525-f7e0ff87deb1",
   "metadata": {},
   "outputs": [
    {
     "name": "stdout",
     "output_type": "stream",
     "text": [
      "True\n",
      "False\n"
     ]
    }
   ],
   "source": [
    "num1 = \"python\"\n",
    "num2 = \"python \"\n",
    "num3 = \"python 2language\"\n",
    "\n",
    "print(num1.isalpha())\n",
    "print(num3.isalpha())"
   ]
  },
  {
   "cell_type": "code",
   "execution_count": 53,
   "id": "3bc23c3b-bb4d-4d63-a72e-af99da3bd62e",
   "metadata": {},
   "outputs": [
    {
     "name": "stdout",
     "output_type": "stream",
     "text": [
      "True\n",
      "False\n"
     ]
    }
   ],
   "source": [
    "number = \"123\"\n",
    "number2 = \"13abc\"\n",
    "print(number.isdigit())\n",
    "print(number2.isdigit())"
   ]
  },
  {
   "cell_type": "code",
   "execution_count": 13,
   "id": "5dcbb843-7a3a-42f5-a98e-a31e0b475036",
   "metadata": {},
   "outputs": [
    {
     "name": "stdout",
     "output_type": "stream",
     "text": [
      "nohtyp\n"
     ]
    }
   ],
   "source": [
    "str = \"hello python\"\n",
    "num = str[:5:-1]\n",
    "print(num)    #python"
   ]
  },
  {
   "cell_type": "code",
   "execution_count": 9,
   "id": "c598dfa8-8e1a-452b-a638-c047ef10e7e6",
   "metadata": {},
   "outputs": [
    {
     "name": "stdout",
     "output_type": "stream",
     "text": [
      "retypuj olleh\n"
     ]
    }
   ],
   "source": [
    "str = \"hello jupyter\"\n",
    "\n",
    "print(\"\".join(reversed(str)))"
   ]
  },
  {
   "cell_type": "code",
   "execution_count": 17,
   "id": "695d7edb-b111-4165-b238-3855a038c7e9",
   "metadata": {},
   "outputs": [
    {
     "name": "stdout",
     "output_type": "stream",
     "text": [
      "my name is Abhishek i am 20 year old and my marks 7 CGPA\n"
     ]
    }
   ],
   "source": [
    "name = \"Abhishek\"\n",
    "age = 20\n",
    "marks = 7\n",
    "\n",
    "print(f\"my name is {name} i am {age} year old and my marks {marks} CGPA\")"
   ]
  },
  {
   "cell_type": "code",
   "execution_count": 22,
   "id": "ccf5bd5f-a588-444f-9580-f236f4582e28",
   "metadata": {},
   "outputs": [
    {
     "name": "stdout",
     "output_type": "stream",
     "text": [
      "my name is Abhishek i am 20 year old and my marks is 7 CGPA\n"
     ]
    }
   ],
   "source": [
    "name = \"Abhishek\"\n",
    "age = 20\n",
    "marks = 7\n",
    "\n",
    "print(\"my name is {} i am {} year old and my marks is {} CGPA\".format(name , age , marks))"
   ]
  },
  {
   "cell_type": "code",
   "execution_count": 25,
   "id": "e2eb89d1-c60c-4db6-9e69-6f9c87e6ba95",
   "metadata": {},
   "outputs": [
    {
     "name": "stdout",
     "output_type": "stream",
     "text": [
      "python is high lavel\n",
      "python is high lavel interprate languag\n"
     ]
    }
   ],
   "source": [
    "string = \"python is high lavel interprate language\"\n",
    "\n",
    "print(string[0:20])\n",
    "print(string[:-1])"
   ]
  },
  {
   "cell_type": "code",
   "execution_count": 26,
   "id": "e538f715-cec9-4909-a448-c1bd1067ff11",
   "metadata": {},
   "outputs": [
    {
     "name": "stdout",
     "output_type": "stream",
     "text": [
      "hellm pythmn\n"
     ]
    }
   ],
   "source": [
    "student = \"hello python\"\n",
    "\n",
    "print(student.replace(\"o\",\"m\"))"
   ]
  },
  {
   "cell_type": "code",
   "execution_count": 32,
   "id": "8e66e20e-2972-4c01-8f09-48930968b288",
   "metadata": {},
   "outputs": [
    {
     "name": "stdout",
     "output_type": "stream",
     "text": [
      "mucky is a nifty searching boy\n"
     ]
    }
   ],
   "source": [
    "student = \"lucky is a nifty searching boy\"\n",
    "\n",
    "num = student.replace(\"l\",\"m\")\n",
    "print(num)"
   ]
  },
  {
   "cell_type": "code",
   "execution_count": 33,
   "id": "0eaac0fe-36e0-493b-92ea-b741974fd592",
   "metadata": {},
   "outputs": [
    {
     "name": "stdout",
     "output_type": "stream",
     "text": [
      "cloudy my a bad boy in class\n"
     ]
    }
   ],
   "source": [
    "string = \"cloudy is a good boy in class\"\n",
    "gft = string.replace(\"is\",\"my\").replace(\"good\",\"bad\").replace(\"\")\n",
    "print(gft)"
   ]
  },
  {
   "cell_type": "code",
   "execution_count": null,
   "id": "f7aed3ab-d94b-411f-b852-97194801424b",
   "metadata": {},
   "outputs": [],
   "source": []
  }
 ],
 "metadata": {
  "kernelspec": {
   "display_name": "Python [conda env:base] *",
   "language": "python",
   "name": "conda-base-py"
  },
  "language_info": {
   "codemirror_mode": {
    "name": "ipython",
    "version": 3
   },
   "file_extension": ".py",
   "mimetype": "text/x-python",
   "name": "python",
   "nbconvert_exporter": "python",
   "pygments_lexer": "ipython3",
   "version": "3.12.7"
  }
 },
 "nbformat": 4,
 "nbformat_minor": 5
}
